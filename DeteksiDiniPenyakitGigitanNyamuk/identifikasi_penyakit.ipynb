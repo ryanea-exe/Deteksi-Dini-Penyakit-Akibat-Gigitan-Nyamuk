{
  "nbformat": 4,
  "nbformat_minor": 0,
  "metadata": {
    "colab": {
      "provenance": []
    },
    "kernelspec": {
      "name": "python3",
      "display_name": "Python 3"
    },
    "language_info": {
      "name": "python"
    }
  },
  "cells": [
    {
      "cell_type": "markdown",
      "source": [
        "# **DATA PREPARE**"
      ],
      "metadata": {
        "id": "C-z3XiGi63_4"
      }
    },
    {
      "cell_type": "code",
      "source": [
        "import nltk\n",
        "import pandas as pd\n",
        "import numpy as np\n",
        "import matplotlib.pyplot as plt\n",
        "import seaborn as sns\n",
        "from sklearn import preprocessing\n",
        "from nltk.corpus import stopwords\n",
        "from sklearn.feature_extraction.text import CountVectorizer\n",
        "from sklearn.preprocessing import StandardScaler\n",
        "from wordcloud import WordCloud\n",
        "from sklearn.model_selection import train_test_split\n",
        "from sklearn.linear_model import LogisticRegression\n",
        "from sklearn.metrics import accuracy_score, classification_report, confusion_matrix\n",
        "from tensorflow.keras.preprocessing.text import Tokenizer\n",
        "from tensorflow.keras.preprocessing.sequence import pad_sequences\n",
        "from sklearn import svm\n",
        "from sklearn.ensemble import RandomForestClassifier\n",
        "from xgboost import XGBClassifier\n",
        "from sklearn.tree import DecisionTreeClassifier"
      ],
      "metadata": {
        "id": "z2IO2QCK8jww"
      },
      "execution_count": 49,
      "outputs": []
    },
    {
      "cell_type": "code",
      "source": [
        "# Membaca dataset dari file CSV\n",
        "df = pd.read_excel('dataset_penyakit2.xlsx')\n",
        "df.shape"
      ],
      "metadata": {
        "id": "bk0x74DS-Ag5",
        "colab": {
          "base_uri": "https://localhost:8080/"
        },
        "outputId": "bd1be96c-c278-461a-f01e-d5be7e74f9a6"
      },
      "execution_count": 50,
      "outputs": [
        {
          "output_type": "execute_result",
          "data": {
            "text/plain": [
              "(50, 11)"
            ]
          },
          "metadata": {},
          "execution_count": 50
        }
      ]
    },
    {
      "cell_type": "code",
      "source": [
        "df.head(10)"
      ],
      "metadata": {
        "colab": {
          "base_uri": "https://localhost:8080/",
          "height": 363
        },
        "id": "CUpdnC33_Mck",
        "outputId": "da7417cb-82a4-49d2-cd36-892b32ea1a88"
      },
      "execution_count": 51,
      "outputs": [
        {
          "output_type": "execute_result",
          "data": {
            "text/plain": [
              "   USIA JENIS_KELAMIN  SUHU_TUBUH RIWAYAT_KESEHATAN MENGGIGIL  DEMAM  \\\n",
              "0    46        Wanita        38.0                Ya     Tidak     Ya   \n",
              "1    36        Wanita        39.9                Ya        Ya     Ya   \n",
              "2    24          Pria        38.1             Tidak     Tidak     Ya   \n",
              "3    32          Pria        40.1                Ya        Ya     Ya   \n",
              "4    35          Pria        39.7             Tidak        Ya     Ya   \n",
              "5    45          Pria        39.5             Tidak        Ya     Ya   \n",
              "6    34        Wanita        35.2             Tidak     Tidak  Tidak   \n",
              "7    47        Wanita        39.8                Ya        Ya     Ya   \n",
              "8    45          Pria        40.7                Ya        Ya     Ya   \n",
              "9    31        Wanita        40.0             Tidak        Ya     Ya   \n",
              "\n",
              "   TROMBOSIT   MUAL   RUAM NYERI_SENDI            PENYAKIT  \n",
              "0     174098     Ya     Ya          Ya         Chikungunya  \n",
              "1     165139     Ya  Tidak       Tidak             Malaria  \n",
              "2     157130     Ya     Ya          Ya         Chikungunya  \n",
              "3     169278     Ya  Tidak       Tidak             Malaria  \n",
              "4     125936  Tidak     Ya          Ya      Demam Berdarah  \n",
              "5     159127  Tidak  Tidak       Tidak             Malaria  \n",
              "6     213891  Tidak     Ya       Tidak  Tidak Terdiagnosis  \n",
              "7     164481     Ya     Ya          Ya             Malaria  \n",
              "8     166596     Ya  Tidak       Tidak             Malaria  \n",
              "9     163658  Tidak  Tidak       Tidak             Malaria  "
            ],
            "text/html": [
              "\n",
              "  <div id=\"df-69978cda-7431-4514-8abf-91591e18cced\" class=\"colab-df-container\">\n",
              "    <div>\n",
              "<style scoped>\n",
              "    .dataframe tbody tr th:only-of-type {\n",
              "        vertical-align: middle;\n",
              "    }\n",
              "\n",
              "    .dataframe tbody tr th {\n",
              "        vertical-align: top;\n",
              "    }\n",
              "\n",
              "    .dataframe thead th {\n",
              "        text-align: right;\n",
              "    }\n",
              "</style>\n",
              "<table border=\"1\" class=\"dataframe\">\n",
              "  <thead>\n",
              "    <tr style=\"text-align: right;\">\n",
              "      <th></th>\n",
              "      <th>USIA</th>\n",
              "      <th>JENIS_KELAMIN</th>\n",
              "      <th>SUHU_TUBUH</th>\n",
              "      <th>RIWAYAT_KESEHATAN</th>\n",
              "      <th>MENGGIGIL</th>\n",
              "      <th>DEMAM</th>\n",
              "      <th>TROMBOSIT</th>\n",
              "      <th>MUAL</th>\n",
              "      <th>RUAM</th>\n",
              "      <th>NYERI_SENDI</th>\n",
              "      <th>PENYAKIT</th>\n",
              "    </tr>\n",
              "  </thead>\n",
              "  <tbody>\n",
              "    <tr>\n",
              "      <th>0</th>\n",
              "      <td>46</td>\n",
              "      <td>Wanita</td>\n",
              "      <td>38.0</td>\n",
              "      <td>Ya</td>\n",
              "      <td>Tidak</td>\n",
              "      <td>Ya</td>\n",
              "      <td>174098</td>\n",
              "      <td>Ya</td>\n",
              "      <td>Ya</td>\n",
              "      <td>Ya</td>\n",
              "      <td>Chikungunya</td>\n",
              "    </tr>\n",
              "    <tr>\n",
              "      <th>1</th>\n",
              "      <td>36</td>\n",
              "      <td>Wanita</td>\n",
              "      <td>39.9</td>\n",
              "      <td>Ya</td>\n",
              "      <td>Ya</td>\n",
              "      <td>Ya</td>\n",
              "      <td>165139</td>\n",
              "      <td>Ya</td>\n",
              "      <td>Tidak</td>\n",
              "      <td>Tidak</td>\n",
              "      <td>Malaria</td>\n",
              "    </tr>\n",
              "    <tr>\n",
              "      <th>2</th>\n",
              "      <td>24</td>\n",
              "      <td>Pria</td>\n",
              "      <td>38.1</td>\n",
              "      <td>Tidak</td>\n",
              "      <td>Tidak</td>\n",
              "      <td>Ya</td>\n",
              "      <td>157130</td>\n",
              "      <td>Ya</td>\n",
              "      <td>Ya</td>\n",
              "      <td>Ya</td>\n",
              "      <td>Chikungunya</td>\n",
              "    </tr>\n",
              "    <tr>\n",
              "      <th>3</th>\n",
              "      <td>32</td>\n",
              "      <td>Pria</td>\n",
              "      <td>40.1</td>\n",
              "      <td>Ya</td>\n",
              "      <td>Ya</td>\n",
              "      <td>Ya</td>\n",
              "      <td>169278</td>\n",
              "      <td>Ya</td>\n",
              "      <td>Tidak</td>\n",
              "      <td>Tidak</td>\n",
              "      <td>Malaria</td>\n",
              "    </tr>\n",
              "    <tr>\n",
              "      <th>4</th>\n",
              "      <td>35</td>\n",
              "      <td>Pria</td>\n",
              "      <td>39.7</td>\n",
              "      <td>Tidak</td>\n",
              "      <td>Ya</td>\n",
              "      <td>Ya</td>\n",
              "      <td>125936</td>\n",
              "      <td>Tidak</td>\n",
              "      <td>Ya</td>\n",
              "      <td>Ya</td>\n",
              "      <td>Demam Berdarah</td>\n",
              "    </tr>\n",
              "    <tr>\n",
              "      <th>5</th>\n",
              "      <td>45</td>\n",
              "      <td>Pria</td>\n",
              "      <td>39.5</td>\n",
              "      <td>Tidak</td>\n",
              "      <td>Ya</td>\n",
              "      <td>Ya</td>\n",
              "      <td>159127</td>\n",
              "      <td>Tidak</td>\n",
              "      <td>Tidak</td>\n",
              "      <td>Tidak</td>\n",
              "      <td>Malaria</td>\n",
              "    </tr>\n",
              "    <tr>\n",
              "      <th>6</th>\n",
              "      <td>34</td>\n",
              "      <td>Wanita</td>\n",
              "      <td>35.2</td>\n",
              "      <td>Tidak</td>\n",
              "      <td>Tidak</td>\n",
              "      <td>Tidak</td>\n",
              "      <td>213891</td>\n",
              "      <td>Tidak</td>\n",
              "      <td>Ya</td>\n",
              "      <td>Tidak</td>\n",
              "      <td>Tidak Terdiagnosis</td>\n",
              "    </tr>\n",
              "    <tr>\n",
              "      <th>7</th>\n",
              "      <td>47</td>\n",
              "      <td>Wanita</td>\n",
              "      <td>39.8</td>\n",
              "      <td>Ya</td>\n",
              "      <td>Ya</td>\n",
              "      <td>Ya</td>\n",
              "      <td>164481</td>\n",
              "      <td>Ya</td>\n",
              "      <td>Ya</td>\n",
              "      <td>Ya</td>\n",
              "      <td>Malaria</td>\n",
              "    </tr>\n",
              "    <tr>\n",
              "      <th>8</th>\n",
              "      <td>45</td>\n",
              "      <td>Pria</td>\n",
              "      <td>40.7</td>\n",
              "      <td>Ya</td>\n",
              "      <td>Ya</td>\n",
              "      <td>Ya</td>\n",
              "      <td>166596</td>\n",
              "      <td>Ya</td>\n",
              "      <td>Tidak</td>\n",
              "      <td>Tidak</td>\n",
              "      <td>Malaria</td>\n",
              "    </tr>\n",
              "    <tr>\n",
              "      <th>9</th>\n",
              "      <td>31</td>\n",
              "      <td>Wanita</td>\n",
              "      <td>40.0</td>\n",
              "      <td>Tidak</td>\n",
              "      <td>Ya</td>\n",
              "      <td>Ya</td>\n",
              "      <td>163658</td>\n",
              "      <td>Tidak</td>\n",
              "      <td>Tidak</td>\n",
              "      <td>Tidak</td>\n",
              "      <td>Malaria</td>\n",
              "    </tr>\n",
              "  </tbody>\n",
              "</table>\n",
              "</div>\n",
              "    <div class=\"colab-df-buttons\">\n",
              "\n",
              "  <div class=\"colab-df-container\">\n",
              "    <button class=\"colab-df-convert\" onclick=\"convertToInteractive('df-69978cda-7431-4514-8abf-91591e18cced')\"\n",
              "            title=\"Convert this dataframe to an interactive table.\"\n",
              "            style=\"display:none;\">\n",
              "\n",
              "  <svg xmlns=\"http://www.w3.org/2000/svg\" height=\"24px\" viewBox=\"0 -960 960 960\">\n",
              "    <path d=\"M120-120v-720h720v720H120Zm60-500h600v-160H180v160Zm220 220h160v-160H400v160Zm0 220h160v-160H400v160ZM180-400h160v-160H180v160Zm440 0h160v-160H620v160ZM180-180h160v-160H180v160Zm440 0h160v-160H620v160Z\"/>\n",
              "  </svg>\n",
              "    </button>\n",
              "\n",
              "  <style>\n",
              "    .colab-df-container {\n",
              "      display:flex;\n",
              "      gap: 12px;\n",
              "    }\n",
              "\n",
              "    .colab-df-convert {\n",
              "      background-color: #E8F0FE;\n",
              "      border: none;\n",
              "      border-radius: 50%;\n",
              "      cursor: pointer;\n",
              "      display: none;\n",
              "      fill: #1967D2;\n",
              "      height: 32px;\n",
              "      padding: 0 0 0 0;\n",
              "      width: 32px;\n",
              "    }\n",
              "\n",
              "    .colab-df-convert:hover {\n",
              "      background-color: #E2EBFA;\n",
              "      box-shadow: 0px 1px 2px rgba(60, 64, 67, 0.3), 0px 1px 3px 1px rgba(60, 64, 67, 0.15);\n",
              "      fill: #174EA6;\n",
              "    }\n",
              "\n",
              "    .colab-df-buttons div {\n",
              "      margin-bottom: 4px;\n",
              "    }\n",
              "\n",
              "    [theme=dark] .colab-df-convert {\n",
              "      background-color: #3B4455;\n",
              "      fill: #D2E3FC;\n",
              "    }\n",
              "\n",
              "    [theme=dark] .colab-df-convert:hover {\n",
              "      background-color: #434B5C;\n",
              "      box-shadow: 0px 1px 3px 1px rgba(0, 0, 0, 0.15);\n",
              "      filter: drop-shadow(0px 1px 2px rgba(0, 0, 0, 0.3));\n",
              "      fill: #FFFFFF;\n",
              "    }\n",
              "  </style>\n",
              "\n",
              "    <script>\n",
              "      const buttonEl =\n",
              "        document.querySelector('#df-69978cda-7431-4514-8abf-91591e18cced button.colab-df-convert');\n",
              "      buttonEl.style.display =\n",
              "        google.colab.kernel.accessAllowed ? 'block' : 'none';\n",
              "\n",
              "      async function convertToInteractive(key) {\n",
              "        const element = document.querySelector('#df-69978cda-7431-4514-8abf-91591e18cced');\n",
              "        const dataTable =\n",
              "          await google.colab.kernel.invokeFunction('convertToInteractive',\n",
              "                                                    [key], {});\n",
              "        if (!dataTable) return;\n",
              "\n",
              "        const docLinkHtml = 'Like what you see? Visit the ' +\n",
              "          '<a target=\"_blank\" href=https://colab.research.google.com/notebooks/data_table.ipynb>data table notebook</a>'\n",
              "          + ' to learn more about interactive tables.';\n",
              "        element.innerHTML = '';\n",
              "        dataTable['output_type'] = 'display_data';\n",
              "        await google.colab.output.renderOutput(dataTable, element);\n",
              "        const docLink = document.createElement('div');\n",
              "        docLink.innerHTML = docLinkHtml;\n",
              "        element.appendChild(docLink);\n",
              "      }\n",
              "    </script>\n",
              "  </div>\n",
              "\n",
              "\n",
              "<div id=\"df-dc14fecb-c13e-4bdc-85ec-11e6f57ea554\">\n",
              "  <button class=\"colab-df-quickchart\" onclick=\"quickchart('df-dc14fecb-c13e-4bdc-85ec-11e6f57ea554')\"\n",
              "            title=\"Suggest charts\"\n",
              "            style=\"display:none;\">\n",
              "\n",
              "<svg xmlns=\"http://www.w3.org/2000/svg\" height=\"24px\"viewBox=\"0 0 24 24\"\n",
              "     width=\"24px\">\n",
              "    <g>\n",
              "        <path d=\"M19 3H5c-1.1 0-2 .9-2 2v14c0 1.1.9 2 2 2h14c1.1 0 2-.9 2-2V5c0-1.1-.9-2-2-2zM9 17H7v-7h2v7zm4 0h-2V7h2v10zm4 0h-2v-4h2v4z\"/>\n",
              "    </g>\n",
              "</svg>\n",
              "  </button>\n",
              "\n",
              "<style>\n",
              "  .colab-df-quickchart {\n",
              "      --bg-color: #E8F0FE;\n",
              "      --fill-color: #1967D2;\n",
              "      --hover-bg-color: #E2EBFA;\n",
              "      --hover-fill-color: #174EA6;\n",
              "      --disabled-fill-color: #AAA;\n",
              "      --disabled-bg-color: #DDD;\n",
              "  }\n",
              "\n",
              "  [theme=dark] .colab-df-quickchart {\n",
              "      --bg-color: #3B4455;\n",
              "      --fill-color: #D2E3FC;\n",
              "      --hover-bg-color: #434B5C;\n",
              "      --hover-fill-color: #FFFFFF;\n",
              "      --disabled-bg-color: #3B4455;\n",
              "      --disabled-fill-color: #666;\n",
              "  }\n",
              "\n",
              "  .colab-df-quickchart {\n",
              "    background-color: var(--bg-color);\n",
              "    border: none;\n",
              "    border-radius: 50%;\n",
              "    cursor: pointer;\n",
              "    display: none;\n",
              "    fill: var(--fill-color);\n",
              "    height: 32px;\n",
              "    padding: 0;\n",
              "    width: 32px;\n",
              "  }\n",
              "\n",
              "  .colab-df-quickchart:hover {\n",
              "    background-color: var(--hover-bg-color);\n",
              "    box-shadow: 0 1px 2px rgba(60, 64, 67, 0.3), 0 1px 3px 1px rgba(60, 64, 67, 0.15);\n",
              "    fill: var(--button-hover-fill-color);\n",
              "  }\n",
              "\n",
              "  .colab-df-quickchart-complete:disabled,\n",
              "  .colab-df-quickchart-complete:disabled:hover {\n",
              "    background-color: var(--disabled-bg-color);\n",
              "    fill: var(--disabled-fill-color);\n",
              "    box-shadow: none;\n",
              "  }\n",
              "\n",
              "  .colab-df-spinner {\n",
              "    border: 2px solid var(--fill-color);\n",
              "    border-color: transparent;\n",
              "    border-bottom-color: var(--fill-color);\n",
              "    animation:\n",
              "      spin 1s steps(1) infinite;\n",
              "  }\n",
              "\n",
              "  @keyframes spin {\n",
              "    0% {\n",
              "      border-color: transparent;\n",
              "      border-bottom-color: var(--fill-color);\n",
              "      border-left-color: var(--fill-color);\n",
              "    }\n",
              "    20% {\n",
              "      border-color: transparent;\n",
              "      border-left-color: var(--fill-color);\n",
              "      border-top-color: var(--fill-color);\n",
              "    }\n",
              "    30% {\n",
              "      border-color: transparent;\n",
              "      border-left-color: var(--fill-color);\n",
              "      border-top-color: var(--fill-color);\n",
              "      border-right-color: var(--fill-color);\n",
              "    }\n",
              "    40% {\n",
              "      border-color: transparent;\n",
              "      border-right-color: var(--fill-color);\n",
              "      border-top-color: var(--fill-color);\n",
              "    }\n",
              "    60% {\n",
              "      border-color: transparent;\n",
              "      border-right-color: var(--fill-color);\n",
              "    }\n",
              "    80% {\n",
              "      border-color: transparent;\n",
              "      border-right-color: var(--fill-color);\n",
              "      border-bottom-color: var(--fill-color);\n",
              "    }\n",
              "    90% {\n",
              "      border-color: transparent;\n",
              "      border-bottom-color: var(--fill-color);\n",
              "    }\n",
              "  }\n",
              "</style>\n",
              "\n",
              "  <script>\n",
              "    async function quickchart(key) {\n",
              "      const quickchartButtonEl =\n",
              "        document.querySelector('#' + key + ' button');\n",
              "      quickchartButtonEl.disabled = true;  // To prevent multiple clicks.\n",
              "      quickchartButtonEl.classList.add('colab-df-spinner');\n",
              "      try {\n",
              "        const charts = await google.colab.kernel.invokeFunction(\n",
              "            'suggestCharts', [key], {});\n",
              "      } catch (error) {\n",
              "        console.error('Error during call to suggestCharts:', error);\n",
              "      }\n",
              "      quickchartButtonEl.classList.remove('colab-df-spinner');\n",
              "      quickchartButtonEl.classList.add('colab-df-quickchart-complete');\n",
              "    }\n",
              "    (() => {\n",
              "      let quickchartButtonEl =\n",
              "        document.querySelector('#df-dc14fecb-c13e-4bdc-85ec-11e6f57ea554 button');\n",
              "      quickchartButtonEl.style.display =\n",
              "        google.colab.kernel.accessAllowed ? 'block' : 'none';\n",
              "    })();\n",
              "  </script>\n",
              "</div>\n",
              "    </div>\n",
              "  </div>\n"
            ]
          },
          "metadata": {},
          "execution_count": 51
        }
      ]
    },
    {
      "cell_type": "code",
      "source": [
        "values = {\"RIWAYAT_KESEHATAN\":{\"Tidak\":0, \"Ya\":1},\n",
        "          \"MENGGIGIL\":{\"Tidak\":0, \"Ya\":1},\n",
        "          \"DEMAM\":{\"Tidak\":0, \"Ya\":1},\n",
        "          \"MUAL\":{\"Tidak\":0, \"Ya\":1},\n",
        "          \"RUAM\":{\"Tidak\":0, \"Ya\":1},\n",
        "          \"NYERI_SENDI\":{\"Tidak\":0, \"Ya\":1}\n",
        "          }\n",
        "df.replace(values, inplace=True)"
      ],
      "metadata": {
        "id": "fCvODlyspC0g"
      },
      "execution_count": 52,
      "outputs": []
    },
    {
      "cell_type": "code",
      "source": [
        "yyy = df['PENYAKIT']\n",
        "yyy.head(10)"
      ],
      "metadata": {
        "id": "i4dV599FvX-k",
        "colab": {
          "base_uri": "https://localhost:8080/"
        },
        "outputId": "984d2549-75d7-44e0-8752-e5cfb04699b8"
      },
      "execution_count": 53,
      "outputs": [
        {
          "output_type": "execute_result",
          "data": {
            "text/plain": [
              "0           Chikungunya\n",
              "1               Malaria\n",
              "2           Chikungunya\n",
              "3               Malaria\n",
              "4        Demam Berdarah\n",
              "5               Malaria\n",
              "6    Tidak Terdiagnosis\n",
              "7               Malaria\n",
              "8               Malaria\n",
              "9               Malaria\n",
              "Name: PENYAKIT, dtype: object"
            ]
          },
          "metadata": {},
          "execution_count": 53
        }
      ]
    },
    {
      "cell_type": "code",
      "source": [
        "delete_columns = ['PENYAKIT','JENIS_KELAMIN','USIA']\n",
        "xxx = df.drop(delete_columns, axis=1)\n",
        "\n",
        "xxx.head(10)"
      ],
      "metadata": {
        "id": "2djJ_FlWpLbX",
        "colab": {
          "base_uri": "https://localhost:8080/",
          "height": 363
        },
        "outputId": "520c39e4-6c82-4687-f0c3-678b0441ccfa"
      },
      "execution_count": 54,
      "outputs": [
        {
          "output_type": "execute_result",
          "data": {
            "text/plain": [
              "   SUHU_TUBUH  RIWAYAT_KESEHATAN  MENGGIGIL  DEMAM  TROMBOSIT  MUAL  RUAM  \\\n",
              "0        38.0                  1          0      1     174098     1     1   \n",
              "1        39.9                  1          1      1     165139     1     0   \n",
              "2        38.1                  0          0      1     157130     1     1   \n",
              "3        40.1                  1          1      1     169278     1     0   \n",
              "4        39.7                  0          1      1     125936     0     1   \n",
              "5        39.5                  0          1      1     159127     0     0   \n",
              "6        35.2                  0          0      0     213891     0     1   \n",
              "7        39.8                  1          1      1     164481     1     1   \n",
              "8        40.7                  1          1      1     166596     1     0   \n",
              "9        40.0                  0          1      1     163658     0     0   \n",
              "\n",
              "   NYERI_SENDI  \n",
              "0            1  \n",
              "1            0  \n",
              "2            1  \n",
              "3            0  \n",
              "4            1  \n",
              "5            0  \n",
              "6            0  \n",
              "7            1  \n",
              "8            0  \n",
              "9            0  "
            ],
            "text/html": [
              "\n",
              "  <div id=\"df-0ec893be-3743-4670-b3d8-321572782103\" class=\"colab-df-container\">\n",
              "    <div>\n",
              "<style scoped>\n",
              "    .dataframe tbody tr th:only-of-type {\n",
              "        vertical-align: middle;\n",
              "    }\n",
              "\n",
              "    .dataframe tbody tr th {\n",
              "        vertical-align: top;\n",
              "    }\n",
              "\n",
              "    .dataframe thead th {\n",
              "        text-align: right;\n",
              "    }\n",
              "</style>\n",
              "<table border=\"1\" class=\"dataframe\">\n",
              "  <thead>\n",
              "    <tr style=\"text-align: right;\">\n",
              "      <th></th>\n",
              "      <th>SUHU_TUBUH</th>\n",
              "      <th>RIWAYAT_KESEHATAN</th>\n",
              "      <th>MENGGIGIL</th>\n",
              "      <th>DEMAM</th>\n",
              "      <th>TROMBOSIT</th>\n",
              "      <th>MUAL</th>\n",
              "      <th>RUAM</th>\n",
              "      <th>NYERI_SENDI</th>\n",
              "    </tr>\n",
              "  </thead>\n",
              "  <tbody>\n",
              "    <tr>\n",
              "      <th>0</th>\n",
              "      <td>38.0</td>\n",
              "      <td>1</td>\n",
              "      <td>0</td>\n",
              "      <td>1</td>\n",
              "      <td>174098</td>\n",
              "      <td>1</td>\n",
              "      <td>1</td>\n",
              "      <td>1</td>\n",
              "    </tr>\n",
              "    <tr>\n",
              "      <th>1</th>\n",
              "      <td>39.9</td>\n",
              "      <td>1</td>\n",
              "      <td>1</td>\n",
              "      <td>1</td>\n",
              "      <td>165139</td>\n",
              "      <td>1</td>\n",
              "      <td>0</td>\n",
              "      <td>0</td>\n",
              "    </tr>\n",
              "    <tr>\n",
              "      <th>2</th>\n",
              "      <td>38.1</td>\n",
              "      <td>0</td>\n",
              "      <td>0</td>\n",
              "      <td>1</td>\n",
              "      <td>157130</td>\n",
              "      <td>1</td>\n",
              "      <td>1</td>\n",
              "      <td>1</td>\n",
              "    </tr>\n",
              "    <tr>\n",
              "      <th>3</th>\n",
              "      <td>40.1</td>\n",
              "      <td>1</td>\n",
              "      <td>1</td>\n",
              "      <td>1</td>\n",
              "      <td>169278</td>\n",
              "      <td>1</td>\n",
              "      <td>0</td>\n",
              "      <td>0</td>\n",
              "    </tr>\n",
              "    <tr>\n",
              "      <th>4</th>\n",
              "      <td>39.7</td>\n",
              "      <td>0</td>\n",
              "      <td>1</td>\n",
              "      <td>1</td>\n",
              "      <td>125936</td>\n",
              "      <td>0</td>\n",
              "      <td>1</td>\n",
              "      <td>1</td>\n",
              "    </tr>\n",
              "    <tr>\n",
              "      <th>5</th>\n",
              "      <td>39.5</td>\n",
              "      <td>0</td>\n",
              "      <td>1</td>\n",
              "      <td>1</td>\n",
              "      <td>159127</td>\n",
              "      <td>0</td>\n",
              "      <td>0</td>\n",
              "      <td>0</td>\n",
              "    </tr>\n",
              "    <tr>\n",
              "      <th>6</th>\n",
              "      <td>35.2</td>\n",
              "      <td>0</td>\n",
              "      <td>0</td>\n",
              "      <td>0</td>\n",
              "      <td>213891</td>\n",
              "      <td>0</td>\n",
              "      <td>1</td>\n",
              "      <td>0</td>\n",
              "    </tr>\n",
              "    <tr>\n",
              "      <th>7</th>\n",
              "      <td>39.8</td>\n",
              "      <td>1</td>\n",
              "      <td>1</td>\n",
              "      <td>1</td>\n",
              "      <td>164481</td>\n",
              "      <td>1</td>\n",
              "      <td>1</td>\n",
              "      <td>1</td>\n",
              "    </tr>\n",
              "    <tr>\n",
              "      <th>8</th>\n",
              "      <td>40.7</td>\n",
              "      <td>1</td>\n",
              "      <td>1</td>\n",
              "      <td>1</td>\n",
              "      <td>166596</td>\n",
              "      <td>1</td>\n",
              "      <td>0</td>\n",
              "      <td>0</td>\n",
              "    </tr>\n",
              "    <tr>\n",
              "      <th>9</th>\n",
              "      <td>40.0</td>\n",
              "      <td>0</td>\n",
              "      <td>1</td>\n",
              "      <td>1</td>\n",
              "      <td>163658</td>\n",
              "      <td>0</td>\n",
              "      <td>0</td>\n",
              "      <td>0</td>\n",
              "    </tr>\n",
              "  </tbody>\n",
              "</table>\n",
              "</div>\n",
              "    <div class=\"colab-df-buttons\">\n",
              "\n",
              "  <div class=\"colab-df-container\">\n",
              "    <button class=\"colab-df-convert\" onclick=\"convertToInteractive('df-0ec893be-3743-4670-b3d8-321572782103')\"\n",
              "            title=\"Convert this dataframe to an interactive table.\"\n",
              "            style=\"display:none;\">\n",
              "\n",
              "  <svg xmlns=\"http://www.w3.org/2000/svg\" height=\"24px\" viewBox=\"0 -960 960 960\">\n",
              "    <path d=\"M120-120v-720h720v720H120Zm60-500h600v-160H180v160Zm220 220h160v-160H400v160Zm0 220h160v-160H400v160ZM180-400h160v-160H180v160Zm440 0h160v-160H620v160ZM180-180h160v-160H180v160Zm440 0h160v-160H620v160Z\"/>\n",
              "  </svg>\n",
              "    </button>\n",
              "\n",
              "  <style>\n",
              "    .colab-df-container {\n",
              "      display:flex;\n",
              "      gap: 12px;\n",
              "    }\n",
              "\n",
              "    .colab-df-convert {\n",
              "      background-color: #E8F0FE;\n",
              "      border: none;\n",
              "      border-radius: 50%;\n",
              "      cursor: pointer;\n",
              "      display: none;\n",
              "      fill: #1967D2;\n",
              "      height: 32px;\n",
              "      padding: 0 0 0 0;\n",
              "      width: 32px;\n",
              "    }\n",
              "\n",
              "    .colab-df-convert:hover {\n",
              "      background-color: #E2EBFA;\n",
              "      box-shadow: 0px 1px 2px rgba(60, 64, 67, 0.3), 0px 1px 3px 1px rgba(60, 64, 67, 0.15);\n",
              "      fill: #174EA6;\n",
              "    }\n",
              "\n",
              "    .colab-df-buttons div {\n",
              "      margin-bottom: 4px;\n",
              "    }\n",
              "\n",
              "    [theme=dark] .colab-df-convert {\n",
              "      background-color: #3B4455;\n",
              "      fill: #D2E3FC;\n",
              "    }\n",
              "\n",
              "    [theme=dark] .colab-df-convert:hover {\n",
              "      background-color: #434B5C;\n",
              "      box-shadow: 0px 1px 3px 1px rgba(0, 0, 0, 0.15);\n",
              "      filter: drop-shadow(0px 1px 2px rgba(0, 0, 0, 0.3));\n",
              "      fill: #FFFFFF;\n",
              "    }\n",
              "  </style>\n",
              "\n",
              "    <script>\n",
              "      const buttonEl =\n",
              "        document.querySelector('#df-0ec893be-3743-4670-b3d8-321572782103 button.colab-df-convert');\n",
              "      buttonEl.style.display =\n",
              "        google.colab.kernel.accessAllowed ? 'block' : 'none';\n",
              "\n",
              "      async function convertToInteractive(key) {\n",
              "        const element = document.querySelector('#df-0ec893be-3743-4670-b3d8-321572782103');\n",
              "        const dataTable =\n",
              "          await google.colab.kernel.invokeFunction('convertToInteractive',\n",
              "                                                    [key], {});\n",
              "        if (!dataTable) return;\n",
              "\n",
              "        const docLinkHtml = 'Like what you see? Visit the ' +\n",
              "          '<a target=\"_blank\" href=https://colab.research.google.com/notebooks/data_table.ipynb>data table notebook</a>'\n",
              "          + ' to learn more about interactive tables.';\n",
              "        element.innerHTML = '';\n",
              "        dataTable['output_type'] = 'display_data';\n",
              "        await google.colab.output.renderOutput(dataTable, element);\n",
              "        const docLink = document.createElement('div');\n",
              "        docLink.innerHTML = docLinkHtml;\n",
              "        element.appendChild(docLink);\n",
              "      }\n",
              "    </script>\n",
              "  </div>\n",
              "\n",
              "\n",
              "<div id=\"df-8983f158-d0dc-4f49-a8af-bcc0a977eab1\">\n",
              "  <button class=\"colab-df-quickchart\" onclick=\"quickchart('df-8983f158-d0dc-4f49-a8af-bcc0a977eab1')\"\n",
              "            title=\"Suggest charts\"\n",
              "            style=\"display:none;\">\n",
              "\n",
              "<svg xmlns=\"http://www.w3.org/2000/svg\" height=\"24px\"viewBox=\"0 0 24 24\"\n",
              "     width=\"24px\">\n",
              "    <g>\n",
              "        <path d=\"M19 3H5c-1.1 0-2 .9-2 2v14c0 1.1.9 2 2 2h14c1.1 0 2-.9 2-2V5c0-1.1-.9-2-2-2zM9 17H7v-7h2v7zm4 0h-2V7h2v10zm4 0h-2v-4h2v4z\"/>\n",
              "    </g>\n",
              "</svg>\n",
              "  </button>\n",
              "\n",
              "<style>\n",
              "  .colab-df-quickchart {\n",
              "      --bg-color: #E8F0FE;\n",
              "      --fill-color: #1967D2;\n",
              "      --hover-bg-color: #E2EBFA;\n",
              "      --hover-fill-color: #174EA6;\n",
              "      --disabled-fill-color: #AAA;\n",
              "      --disabled-bg-color: #DDD;\n",
              "  }\n",
              "\n",
              "  [theme=dark] .colab-df-quickchart {\n",
              "      --bg-color: #3B4455;\n",
              "      --fill-color: #D2E3FC;\n",
              "      --hover-bg-color: #434B5C;\n",
              "      --hover-fill-color: #FFFFFF;\n",
              "      --disabled-bg-color: #3B4455;\n",
              "      --disabled-fill-color: #666;\n",
              "  }\n",
              "\n",
              "  .colab-df-quickchart {\n",
              "    background-color: var(--bg-color);\n",
              "    border: none;\n",
              "    border-radius: 50%;\n",
              "    cursor: pointer;\n",
              "    display: none;\n",
              "    fill: var(--fill-color);\n",
              "    height: 32px;\n",
              "    padding: 0;\n",
              "    width: 32px;\n",
              "  }\n",
              "\n",
              "  .colab-df-quickchart:hover {\n",
              "    background-color: var(--hover-bg-color);\n",
              "    box-shadow: 0 1px 2px rgba(60, 64, 67, 0.3), 0 1px 3px 1px rgba(60, 64, 67, 0.15);\n",
              "    fill: var(--button-hover-fill-color);\n",
              "  }\n",
              "\n",
              "  .colab-df-quickchart-complete:disabled,\n",
              "  .colab-df-quickchart-complete:disabled:hover {\n",
              "    background-color: var(--disabled-bg-color);\n",
              "    fill: var(--disabled-fill-color);\n",
              "    box-shadow: none;\n",
              "  }\n",
              "\n",
              "  .colab-df-spinner {\n",
              "    border: 2px solid var(--fill-color);\n",
              "    border-color: transparent;\n",
              "    border-bottom-color: var(--fill-color);\n",
              "    animation:\n",
              "      spin 1s steps(1) infinite;\n",
              "  }\n",
              "\n",
              "  @keyframes spin {\n",
              "    0% {\n",
              "      border-color: transparent;\n",
              "      border-bottom-color: var(--fill-color);\n",
              "      border-left-color: var(--fill-color);\n",
              "    }\n",
              "    20% {\n",
              "      border-color: transparent;\n",
              "      border-left-color: var(--fill-color);\n",
              "      border-top-color: var(--fill-color);\n",
              "    }\n",
              "    30% {\n",
              "      border-color: transparent;\n",
              "      border-left-color: var(--fill-color);\n",
              "      border-top-color: var(--fill-color);\n",
              "      border-right-color: var(--fill-color);\n",
              "    }\n",
              "    40% {\n",
              "      border-color: transparent;\n",
              "      border-right-color: var(--fill-color);\n",
              "      border-top-color: var(--fill-color);\n",
              "    }\n",
              "    60% {\n",
              "      border-color: transparent;\n",
              "      border-right-color: var(--fill-color);\n",
              "    }\n",
              "    80% {\n",
              "      border-color: transparent;\n",
              "      border-right-color: var(--fill-color);\n",
              "      border-bottom-color: var(--fill-color);\n",
              "    }\n",
              "    90% {\n",
              "      border-color: transparent;\n",
              "      border-bottom-color: var(--fill-color);\n",
              "    }\n",
              "  }\n",
              "</style>\n",
              "\n",
              "  <script>\n",
              "    async function quickchart(key) {\n",
              "      const quickchartButtonEl =\n",
              "        document.querySelector('#' + key + ' button');\n",
              "      quickchartButtonEl.disabled = true;  // To prevent multiple clicks.\n",
              "      quickchartButtonEl.classList.add('colab-df-spinner');\n",
              "      try {\n",
              "        const charts = await google.colab.kernel.invokeFunction(\n",
              "            'suggestCharts', [key], {});\n",
              "      } catch (error) {\n",
              "        console.error('Error during call to suggestCharts:', error);\n",
              "      }\n",
              "      quickchartButtonEl.classList.remove('colab-df-spinner');\n",
              "      quickchartButtonEl.classList.add('colab-df-quickchart-complete');\n",
              "    }\n",
              "    (() => {\n",
              "      let quickchartButtonEl =\n",
              "        document.querySelector('#df-8983f158-d0dc-4f49-a8af-bcc0a977eab1 button');\n",
              "      quickchartButtonEl.style.display =\n",
              "        google.colab.kernel.accessAllowed ? 'block' : 'none';\n",
              "    })();\n",
              "  </script>\n",
              "</div>\n",
              "    </div>\n",
              "  </div>\n"
            ]
          },
          "metadata": {},
          "execution_count": 54
        }
      ]
    },
    {
      "cell_type": "code",
      "source": [
        "xxx = pd.get_dummies(xxx)\n",
        "\n",
        "print(df.groupby('PENYAKIT').size())"
      ],
      "metadata": {
        "id": "4gB7ERJ6qMLq",
        "colab": {
          "base_uri": "https://localhost:8080/"
        },
        "outputId": "52cf0c0c-00d8-4c88-ca05-40129144161f"
      },
      "execution_count": 55,
      "outputs": [
        {
          "output_type": "stream",
          "name": "stdout",
          "text": [
            "PENYAKIT\n",
            "Chikungunya           12\n",
            "Demam Berdarah         9\n",
            "Malaria               15\n",
            "Tidak Terdiagnosis    14\n",
            "dtype: int64\n"
          ]
        }
      ]
    },
    {
      "cell_type": "markdown",
      "source": [
        "\n",
        "# **DATA ANALYSIS**"
      ],
      "metadata": {
        "id": "_oZWOG4UAhMf"
      }
    },
    {
      "cell_type": "code",
      "source": [
        "x_standard = StandardScaler().fit_transform(xxx)\n",
        "print(x_standard[0:10])"
      ],
      "metadata": {
        "colab": {
          "base_uri": "https://localhost:8080/"
        },
        "id": "yUKxpl3ymaNi",
        "outputId": "a1950c0a-f029-42b4-ed33-f9298d7ccd2d"
      },
      "execution_count": 56,
      "outputs": [
        {
          "output_type": "stream",
          "name": "stdout",
          "text": [
            "[[-0.19919509  0.96076892 -0.88640526  0.531085   -0.05331801  0.88640526\n",
            "   0.88640526  0.88640526]\n",
            " [ 0.88214968  0.96076892  1.12815215  0.531085   -0.20438093  0.88640526\n",
            "  -1.12815215 -1.12815215]\n",
            " [-0.14228221 -1.040833   -0.88640526  0.531085   -0.33942535  0.88640526\n",
            "   0.88640526  0.88640526]\n",
            " [ 0.99597545  0.96076892  1.12815215  0.531085   -0.13459084  0.88640526\n",
            "  -1.12815215 -1.12815215]\n",
            " [ 0.76832392 -1.040833    1.12815215  0.531085   -0.86540558 -1.12815215\n",
            "   0.88640526  0.88640526]\n",
            " [ 0.65449815 -1.040833    1.12815215  0.531085   -0.30575277 -1.12815215\n",
            "  -1.12815215 -1.12815215]\n",
            " [-1.7927558  -1.040833   -0.88640526 -1.88293774  0.61765496 -1.12815215\n",
            "   0.88640526 -1.12815215]\n",
            " [ 0.8252368   0.96076892  1.12815215  0.531085   -0.21547586  0.88640526\n",
            "   0.88640526  0.88640526]\n",
            " [ 1.33745274  0.96076892  1.12815215  0.531085   -0.17981361  0.88640526\n",
            "  -1.12815215 -1.12815215]\n",
            " [ 0.93906256 -1.040833    1.12815215  0.531085   -0.22935294 -1.12815215\n",
            "  -1.12815215 -1.12815215]]\n"
          ]
        }
      ]
    },
    {
      "cell_type": "code",
      "source": [
        "# Display basic statistics of the dataset\n",
        "print(xxx.describe())"
      ],
      "metadata": {
        "id": "ienNrpig-Ngt",
        "colab": {
          "base_uri": "https://localhost:8080/"
        },
        "outputId": "9df6b592-13a2-4ea8-eae5-8898e1e456b9"
      },
      "execution_count": 57,
      "outputs": [
        {
          "output_type": "stream",
          "name": "stdout",
          "text": [
            "       SUHU_TUBUH  RIWAYAT_KESEHATAN  MENGGIGIL      DEMAM      TROMBOSIT  \\\n",
            "count    50.00000          50.000000  50.000000  50.000000      50.000000   \n",
            "mean     38.35000           0.520000   0.440000   0.780000  177260.100000   \n",
            "std       1.77491           0.504672   0.501427   0.418452   59908.523341   \n",
            "min      35.20000           0.000000   0.000000   0.000000   79213.000000   \n",
            "25%      36.42500           0.000000   0.000000   1.000000  151455.750000   \n",
            "50%      38.45000           1.000000   0.000000   1.000000  161704.500000   \n",
            "75%      39.90000           1.000000   1.000000   1.000000  211554.000000   \n",
            "max      40.70000           1.000000   1.000000   1.000000  391871.000000   \n",
            "\n",
            "            MUAL       RUAM  NYERI_SENDI  \n",
            "count  50.000000  50.000000    50.000000  \n",
            "mean    0.560000   0.560000     0.560000  \n",
            "std     0.501427   0.501427     0.501427  \n",
            "min     0.000000   0.000000     0.000000  \n",
            "25%     0.000000   0.000000     0.000000  \n",
            "50%     1.000000   1.000000     1.000000  \n",
            "75%     1.000000   1.000000     1.000000  \n",
            "max     1.000000   1.000000     1.000000  \n"
          ]
        }
      ]
    },
    {
      "cell_type": "code",
      "source": [
        "plt.figure(figsize=(10, 6))\n",
        "yyy.value_counts().plot(kind='bar', color='skyblue')\n",
        "plt.title('DISTRIBUTION OF DESEASES')\n",
        "plt.xlabel('DISEASE')\n",
        "plt.ylabel('COUNT')\n",
        "plt.show()"
      ],
      "metadata": {
        "id": "QHRmmtxr-QVr",
        "colab": {
          "base_uri": "https://localhost:8080/",
          "height": 678
        },
        "outputId": "7230c0fd-9121-4bdf-a01a-6c89ad6bc08b"
      },
      "execution_count": 58,
      "outputs": [
        {
          "output_type": "display_data",
          "data": {
            "text/plain": [
              "<Figure size 1000x600 with 1 Axes>"
            ],
            "image/png": "[encoded data removed]"
          },
          "metadata": {}
        }
      ]
    },
    {
      "cell_type": "code",
      "source": [
        "# Membuat label biner untuk setiap penyakit\n",
        "df['TIDAK_TERDIAGNOSIS'] = (df['PENYAKIT'] == 'Tidak Terdiagnosis').astype(int)\n",
        "df['DEMAM_BERDARAH'] = (df['PENYAKIT'] == 'Demam Berdarah').astype(int)\n",
        "df['MALARIA'] = (df['PENYAKIT'] == 'Malaria').astype(int)\n",
        "df['CHIKUNGUNYA'] = (df['PENYAKIT'] == 'Chikungunya').astype(int)"
      ],
      "metadata": {
        "id": "mK4o9p9ou0p-"
      },
      "execution_count": 59,
      "outputs": []
    },
    {
      "cell_type": "code",
      "source": [
        "correlation_matrix = df[['TIDAK_TERDIAGNOSIS', 'DEMAM_BERDARAH', 'MALARIA', 'CHIKUNGUNYA']].corr()"
      ],
      "metadata": {
        "id": "etq_Om35-RWV"
      },
      "execution_count": 60,
      "outputs": []
    },
    {
      "cell_type": "code",
      "source": [
        "plt.figure(figsize=(8, 6))\n",
        "sns.heatmap(correlation_matrix, annot=True, cmap='coolwarm', fmt=\".2f\", linewidths=.5)\n",
        "plt.title('CORRELATION MATRIX OF DISEASES')\n",
        "plt.show()"
      ],
      "metadata": {
        "id": "HveuzW57-SgP",
        "colab": {
          "base_uri": "https://localhost:8080/",
          "height": 683
        },
        "outputId": "a1c8d504-9fa6-4ce3-eebb-96b8556dfd7f"
      },
      "execution_count": 61,
      "outputs": [
        {
          "output_type": "display_data",
          "data": {
            "text/plain": [
              "<Figure size 800x600 with 2 Axes>"
            ],
            "image/png": "[encoded data removed]"
          },
          "metadata": {}
        }
      ]
    },
    {
      "cell_type": "markdown",
      "source": [
        "# **DATA TRAIN**"
      ],
      "metadata": {
        "id": "akKC9lMhx0s9"
      }
    },
    {
      "cell_type": "code",
      "source": [
        "# Memisahkan dataset menjadi data latih dan data uji\n",
        "# X_train, X_test, y_train, y_test = train_test_split(x, df[['TIDAK_TERDIAGNOSIS', 'DEMAM_BERDARAH', 'MALARIA', 'CHIKUNGUNYA']], test_size=0.2, random_state=0)\n",
        "\n",
        "X_train, X_test, y_train, y_test = train_test_split(xxx, yyy, test_size=0.2, stratify=yyy, random_state=5)"
      ],
      "metadata": {
        "id": "vUEufRm--bOn"
      },
      "execution_count": 62,
      "outputs": []
    },
    {
      "cell_type": "markdown",
      "source": [
        "# # Train With Logistic Regression"
      ],
      "metadata": {
        "id": "3OS8Oxou66vo"
      }
    },
    {
      "cell_type": "code",
      "source": [
        "# Melatih model Logistic Regression\n",
        "model_lr_x = LogisticRegression(C=1)\n",
        "model_lr_x.fit(X_train, y_train)\n",
        "\n",
        "# Menguji model pada data uji\n",
        "y_pred_lr_x = model_lr_x.predict(X_test)\n",
        "\n",
        "# Mengukur kinerja model\n",
        "accuracy_lr_x = accuracy_score(y_test, y_pred_lr_x)\n",
        "classification_report_lr_x = classification_report(y_test, y_pred_lr_x)"
      ],
      "metadata": {
        "id": "uPc-q7H6HWgw"
      },
      "execution_count": 63,
      "outputs": []
    },
    {
      "cell_type": "code",
      "source": [
        "y_pred_lr_x"
      ],
      "metadata": {
        "colab": {
          "base_uri": "https://localhost:8080/"
        },
        "id": "62oiZX4a-LlB",
        "outputId": "779f515b-aced-42b1-907e-9b8135734bbd"
      },
      "execution_count": 64,
      "outputs": [
        {
          "output_type": "execute_result",
          "data": {
            "text/plain": [
              "array(['Tidak Terdiagnosis', 'Demam Berdarah', 'Tidak Terdiagnosis',\n",
              "       'Chikungunya', 'Malaria', 'Malaria', 'Chikungunya', 'Chikungunya',\n",
              "       'Tidak Terdiagnosis', 'Chikungunya'], dtype=object)"
            ]
          },
          "metadata": {},
          "execution_count": 64
        }
      ]
    },
    {
      "cell_type": "code",
      "source": [
        "print('EVALUASI MODEL X (with LOGISTIC REGRESSION):')\n",
        "print(f'Accuracy: {accuracy_lr_x:.2f}')\n",
        "print('Classification Report:')\n",
        "print(classification_report_lr_x)"
      ],
      "metadata": {
        "colab": {
          "base_uri": "https://localhost:8080/"
        },
        "id": "rwa0HSXFcUQI",
        "outputId": "c1afc7d8-2776-4a7c-8066-d8d8d1ed5db7"
      },
      "execution_count": 65,
      "outputs": [
        {
          "output_type": "stream",
          "name": "stdout",
          "text": [
            "EVALUASI MODEL X (with LOGISTIC REGRESSION):\n",
            "Accuracy: 0.70\n",
            "Classification Report:\n",
            "                    precision    recall  f1-score   support\n",
            "\n",
            "       Chikungunya       0.50      1.00      0.67         2\n",
            "    Demam Berdarah       1.00      0.50      0.67         2\n",
            "           Malaria       0.50      0.33      0.40         3\n",
            "Tidak Terdiagnosis       1.00      1.00      1.00         3\n",
            "\n",
            "          accuracy                           0.70        10\n",
            "         macro avg       0.75      0.71      0.68        10\n",
            "      weighted avg       0.75      0.70      0.69        10\n",
            "\n"
          ]
        }
      ]
    },
    {
      "cell_type": "markdown",
      "source": [
        "# # Train With Decision Tree"
      ],
      "metadata": {
        "id": "hsN7jgyY7FoZ"
      }
    },
    {
      "cell_type": "code",
      "source": [
        "# Melatih model Decision Tree\n",
        "model_dt_x = DecisionTreeClassifier(criterion='entropy', max_depth=7)\n",
        "model_dt_x.fit(X_train, y_train)\n",
        "\n",
        "# Menguji model pada data uji\n",
        "y_pred_dt_x = model_dt_x.predict(X_test)\n",
        "\n",
        "# Mengukur kinerja model\n",
        "accuracy_dt_x = accuracy_score(y_test, y_pred_dt_x)\n",
        "classification_report_dt_x = classification_report(y_test, y_pred_dt_x)"
      ],
      "metadata": {
        "id": "fLElqv0t7V3o"
      },
      "execution_count": 66,
      "outputs": []
    },
    {
      "cell_type": "code",
      "source": [
        "y_pred_dt_x"
      ],
      "metadata": {
        "colab": {
          "base_uri": "https://localhost:8080/"
        },
        "id": "iVDX8Vd3-Ul6",
        "outputId": "172b2f4d-54e5-4977-828e-3a8aba0d3f04"
      },
      "execution_count": 67,
      "outputs": [
        {
          "output_type": "execute_result",
          "data": {
            "text/plain": [
              "array(['Tidak Terdiagnosis', 'Demam Berdarah', 'Tidak Terdiagnosis',\n",
              "       'Chikungunya', 'Malaria', 'Malaria', 'Malaria', 'Chikungunya',\n",
              "       'Tidak Terdiagnosis', 'Malaria'], dtype=object)"
            ]
          },
          "metadata": {},
          "execution_count": 67
        }
      ]
    },
    {
      "cell_type": "code",
      "source": [
        "print('EVALUASI MODEL X (with DECISION TREE):')\n",
        "print(f'Accuracy: {accuracy_dt_x:.2f}')\n",
        "print('Classification Report:')\n",
        "print(classification_report_dt_x)"
      ],
      "metadata": {
        "colab": {
          "base_uri": "https://localhost:8080/"
        },
        "id": "kq5G-IUR8xs4",
        "outputId": "c9698408-1659-4adc-a01b-fdd828f4aa37"
      },
      "execution_count": 68,
      "outputs": [
        {
          "output_type": "stream",
          "name": "stdout",
          "text": [
            "EVALUASI MODEL X (with DECISION TREE):\n",
            "Accuracy: 0.90\n",
            "Classification Report:\n",
            "                    precision    recall  f1-score   support\n",
            "\n",
            "       Chikungunya       1.00      1.00      1.00         2\n",
            "    Demam Berdarah       1.00      0.50      0.67         2\n",
            "           Malaria       0.75      1.00      0.86         3\n",
            "Tidak Terdiagnosis       1.00      1.00      1.00         3\n",
            "\n",
            "          accuracy                           0.90        10\n",
            "         macro avg       0.94      0.88      0.88        10\n",
            "      weighted avg       0.93      0.90      0.89        10\n",
            "\n"
          ]
        }
      ]
    },
    {
      "cell_type": "markdown",
      "source": [
        "# # Train With Random Forest"
      ],
      "metadata": {
        "id": "X2QoJmG-ZvHm"
      }
    },
    {
      "cell_type": "code",
      "source": [
        "# Melatih model Random Forest\n",
        "model_rf_x = RandomForestClassifier(n_estimators=100, random_state=0)\n",
        "model_rf_x.fit(X_train, y_train)\n",
        "\n",
        "# Menguji model pada data uji\n",
        "y_pred_rf_x = model_rf_x.predict(X_test)\n",
        "\n",
        "# Mengukur kinerja model\n",
        "accuracy_rf_x = accuracy_score(y_test, y_pred_rf_x)\n",
        "classification_report_rf_x = classification_report(y_test, y_pred_rf_x)"
      ],
      "metadata": {
        "id": "--8bMJ6AZyDP"
      },
      "execution_count": 69,
      "outputs": []
    },
    {
      "cell_type": "code",
      "source": [
        "y_pred_rf_x"
      ],
      "metadata": {
        "colab": {
          "base_uri": "https://localhost:8080/"
        },
        "id": "oSE4A_uAaU-B",
        "outputId": "ef042aad-2e49-44e6-adf0-f9a58cac8c69"
      },
      "execution_count": 70,
      "outputs": [
        {
          "output_type": "execute_result",
          "data": {
            "text/plain": [
              "array(['Tidak Terdiagnosis', 'Demam Berdarah', 'Tidak Terdiagnosis',\n",
              "       'Chikungunya', 'Malaria', 'Malaria', 'Malaria', 'Chikungunya',\n",
              "       'Tidak Terdiagnosis', 'Malaria'], dtype=object)"
            ]
          },
          "metadata": {},
          "execution_count": 70
        }
      ]
    },
    {
      "cell_type": "code",
      "source": [
        "print('EVALUASI MODEL X (with RANDOM FOREST):')\n",
        "print(f'Accuracy: {accuracy_rf_x:.2f}')\n",
        "print('Classification Report:')\n",
        "print(classification_report_rf_x)"
      ],
      "metadata": {
        "colab": {
          "base_uri": "https://localhost:8080/"
        },
        "id": "1t7Wlf30aW02",
        "outputId": "6b12392b-fb93-47fb-d06c-912d7632a850"
      },
      "execution_count": 71,
      "outputs": [
        {
          "output_type": "stream",
          "name": "stdout",
          "text": [
            "EVALUASI MODEL X (with RANDOM FOREST):\n",
            "Accuracy: 0.90\n",
            "Classification Report:\n",
            "                    precision    recall  f1-score   support\n",
            "\n",
            "       Chikungunya       1.00      1.00      1.00         2\n",
            "    Demam Berdarah       1.00      0.50      0.67         2\n",
            "           Malaria       0.75      1.00      0.86         3\n",
            "Tidak Terdiagnosis       1.00      1.00      1.00         3\n",
            "\n",
            "          accuracy                           0.90        10\n",
            "         macro avg       0.94      0.88      0.88        10\n",
            "      weighted avg       0.93      0.90      0.89        10\n",
            "\n"
          ]
        }
      ]
    },
    {
      "cell_type": "markdown",
      "source": [
        "# **SYSTEM PREDICTION**"
      ],
      "metadata": {
        "id": "9Jiu-sN_x-J0"
      }
    },
    {
      "cell_type": "code",
      "source": [
        "input_data = (39.7, 0, 1, 1, 125936, 0, 1, 1)\n",
        "\n",
        "# changing data to numpy array\n",
        "input_data_array = np.array(input_data)\n",
        "\n",
        "# reshape the array as we are predicting for one instance\n",
        "#input_data_reshaped =  input_data_array.reshape(1,-1)\n",
        "input_data_reshaped =  input_data_array.reshape(1,-1)\n",
        "\n",
        "# standarize the input data\n",
        "std_data = preprocessing.scale(input_data_reshaped)\n",
        "std_data_reshaped =  std_data.reshape(1,-1)\n",
        "\n",
        "print(input_data_reshaped)"
      ],
      "metadata": {
        "id": "RF6pM6_ia0BR",
        "colab": {
          "base_uri": "https://localhost:8080/"
        },
        "outputId": "75ce3aba-7667-4af4-a465-dfd0062c70ff"
      },
      "execution_count": 94,
      "outputs": [
        {
          "output_type": "stream",
          "name": "stdout",
          "text": [
            "[[3.97000e+01 0.00000e+00 1.00000e+00 1.00000e+00 1.25936e+05 0.00000e+00\n",
            "  1.00000e+00 1.00000e+00]]\n"
          ]
        }
      ]
    },
    {
      "cell_type": "code",
      "source": [
        "result = model_lr_x.predict(input_data_reshaped)\n",
        "print(\"The prediction disease is (LR) : \", result)\n",
        "\n",
        "result = model_dt_x.predict(input_data_reshaped)\n",
        "print(\"The prediction disease is (DT) : \", result)\n",
        "\n",
        "result = model_rf_x.predict(input_data_reshaped)\n",
        "print(\"The prediction disease is (RF) : \", result)"
      ],
      "metadata": {
        "colab": {
          "base_uri": "https://localhost:8080/"
        },
        "id": "bdTP_D1e0Z-a",
        "outputId": "dc2cf790-63b7-4bd9-ffd9-772f9dec4162"
      },
      "execution_count": 95,
      "outputs": [
        {
          "output_type": "stream",
          "name": "stdout",
          "text": [
            "The prediction disease is (LR) :  ['Demam Berdarah']\n",
            "The prediction disease is (DT) :  ['Demam Berdarah']\n",
            "The prediction disease is (RF) :  ['Demam Berdarah']\n"
          ]
        },
        {
          "output_type": "stream",
          "name": "stderr",
          "text": [
            "/usr/local/lib/python3.10/dist-packages/sklearn/base.py:439: UserWarning: X does not have valid feature names, but LogisticRegression was fitted with feature names\n",
            "  warnings.warn(\n",
            "/usr/local/lib/python3.10/dist-packages/sklearn/base.py:439: UserWarning: X does not have valid feature names, but DecisionTreeClassifier was fitted with feature names\n",
            "  warnings.warn(\n",
            "/usr/local/lib/python3.10/dist-packages/sklearn/base.py:439: UserWarning: X does not have valid feature names, but RandomForestClassifier was fitted with feature names\n",
            "  warnings.warn(\n"
          ]
        }
      ]
    },
    {
      "cell_type": "code",
      "source": [
        "result = model_dt_x.predict(std_data_reshaped)\n",
        "print(\"The prediction disease is (DT) : \", result)"
      ],
      "metadata": {
        "colab": {
          "base_uri": "https://localhost:8080/"
        },
        "id": "jpVJnO9c3YxZ",
        "outputId": "b54ad52f-8692-4c8c-e355-d5478bb8475b"
      },
      "execution_count": 82,
      "outputs": [
        {
          "output_type": "stream",
          "name": "stdout",
          "text": [
            "The prediction disease is (DT) :  ['Tidak Terdiagnosis']\n"
          ]
        },
        {
          "output_type": "stream",
          "name": "stderr",
          "text": [
            "/usr/local/lib/python3.10/dist-packages/sklearn/base.py:439: UserWarning: X does not have valid feature names, but DecisionTreeClassifier was fitted with feature names\n",
            "  warnings.warn(\n"
          ]
        }
      ]
    },
    {
      "cell_type": "code",
      "source": [
        "result = model_rf_x.predict(std_data_reshaped)\n",
        "print(\"The prediction disease is (RF) : \", result)"
      ],
      "metadata": {
        "colab": {
          "base_uri": "https://localhost:8080/"
        },
        "id": "YZePqmkY3ZAO",
        "outputId": "a239dd48-4f5b-4795-d4e2-3c5e2044290d"
      },
      "execution_count": 83,
      "outputs": [
        {
          "output_type": "stream",
          "name": "stdout",
          "text": [
            "The prediction disease is (RF) :  ['Tidak Terdiagnosis']\n"
          ]
        },
        {
          "output_type": "stream",
          "name": "stderr",
          "text": [
            "/usr/local/lib/python3.10/dist-packages/sklearn/base.py:439: UserWarning: X does not have valid feature names, but RandomForestClassifier was fitted with feature names\n",
            "  warnings.warn(\n"
          ]
        }
      ]
    },
    {
      "cell_type": "markdown",
      "source": [
        "# **IIMPORT PICKLE.PKL**"
      ],
      "metadata": {
        "id": "Py46zKUiyDuR"
      }
    },
    {
      "cell_type": "code",
      "source": [
        "import pickle\n",
        "pickle.dump(x_standard, open('scaler.pkl', 'wb'))\n",
        "pickle.dump(model_lr_x, open('model-flask-lr_x.pkl', 'wb'))\n",
        "pickle.dump(model_dt_x, open('model-flask-dt_x.pkl', 'wb'))\n",
        "pickle.dump(model_rf_x, open('model-flask-rf_x.pkl', 'wb'))"
      ],
      "metadata": {
        "id": "TMVYkwea58j8"
      },
      "execution_count": 74,
      "outputs": []
    }
  ]
}